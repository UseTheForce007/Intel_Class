{
 "cells": [
  {
   "cell_type": "code",
   "execution_count": 1,
   "metadata": {},
   "outputs": [],
   "source": [
    "import numpy as np\n",
    "import tensorflow as tf\n",
    "import matplotlib.pyplot as plt\n",
    "from tensorflow.keras.preprocessing.image import ImageDataGenerator, array_to_img"
   ]
  },
  {
   "cell_type": "code",
   "execution_count": 2,
   "metadata": {},
   "outputs": [],
   "source": [
    "import os\n",
    "\n",
    "test_dir = 'archive/seg_test/seg_test/'\n",
    "train_dir = 'archive/seg_train/seg_train/'\n",
    "pred_dir = 'archive/seg_pred/seg_pred/'\n",
    "\n",
    "possible_classes = ['buildings','forest','glacier','mountain','sea','street']\n",
    "class_names_label = {possible_classes:i for i , possible_classes in enumerate(possible_classes)}\n",
    "\n",
    "nb_classes = len(possible_classes)\n",
    "\n"
   ]
  },
  {
   "cell_type": "code",
   "execution_count": 3,
   "metadata": {},
   "outputs": [],
   "source": [
    "IMAGE_SIZE = (150,150)"
   ]
  },
  {
   "cell_type": "code",
   "execution_count": 7,
   "metadata": {},
   "outputs": [
    {
     "name": "stdout",
     "output_type": "stream",
     "text": [
      "Found 14034 images belonging to 6 classes.\n",
      "Found 3000 images belonging to 6 classes.\n"
     ]
    }
   ],
   "source": [
    "train_datagen = ImageDataGenerator(\n",
    "    rescale = 1./255,\n",
    "    rotation_range = 40,\n",
    "    width_shift_range = 0.2,\n",
    "    height_shift_range = 0.2,\n",
    "    shear_range = 0.2,\n",
    "    zoom_range = 0.2,\n",
    "    horizontal_flip = True,\n",
    "    fill_mode = 'nearest',\n",
    ")\n",
    "\n",
    "test_datagen = ImageDataGenerator(\n",
    "    rescale = 1./255,\n",
    ")\n",
    "\n",
    "train_generator = train_datagen.flow_from_directory(\n",
    "    train_dir,\n",
    "    target_size = IMAGE_SIZE,\n",
    "    batch_size = 32,\n",
    "    class_mode = 'categorical',\n",
    "    \n",
    ")\n",
    "\n",
    "validation_generator = test_datagen.flow_from_directory(\n",
    "    test_dir,\n",
    "    target_size = IMAGE_SIZE,\n",
    "    batch_size = 32,\n",
    "    class_mode = 'categorical'\n",
    ")"
   ]
  },
  {
   "cell_type": "code",
   "execution_count": 6,
   "metadata": {},
   "outputs": [
    {
     "ename": "KeyboardInterrupt",
     "evalue": "",
     "output_type": "error",
     "traceback": [
      "\u001b[1;31m---------------------------------------------------------------------------\u001b[0m",
      "\u001b[1;31mKeyboardInterrupt\u001b[0m                         Traceback (most recent call last)",
      "Cell \u001b[1;32mIn[6], line 1\u001b[0m\n\u001b[1;32m----> 1\u001b[0m \u001b[39mfor\u001b[39;00m images, labels \u001b[39min\u001b[39;00m train_generator:\n\u001b[0;32m      2\u001b[0m     labels \u001b[39m=\u001b[39m labels\u001b[39m.\u001b[39mreshape(\u001b[39m-\u001b[39m\u001b[39m1\u001b[39m,\u001b[39mlen\u001b[39m(train_generator\u001b[39m.\u001b[39mclass_indices))\n\u001b[0;32m      4\u001b[0m \u001b[39mfor\u001b[39;00m images, labels \u001b[39min\u001b[39;00m validation_generator:\n",
      "File \u001b[1;32mc:\\Users\\butty\\miniconda3\\lib\\site-packages\\keras\\preprocessing\\image.py:156\u001b[0m, in \u001b[0;36mIterator.__next__\u001b[1;34m(self, *args, **kwargs)\u001b[0m\n\u001b[0;32m    155\u001b[0m \u001b[39mdef\u001b[39;00m \u001b[39m__next__\u001b[39m(\u001b[39mself\u001b[39m, \u001b[39m*\u001b[39margs, \u001b[39m*\u001b[39m\u001b[39m*\u001b[39mkwargs):\n\u001b[1;32m--> 156\u001b[0m     \u001b[39mreturn\u001b[39;00m \u001b[39mself\u001b[39m\u001b[39m.\u001b[39mnext(\u001b[39m*\u001b[39margs, \u001b[39m*\u001b[39m\u001b[39m*\u001b[39mkwargs)\n",
      "File \u001b[1;32mc:\\Users\\butty\\miniconda3\\lib\\site-packages\\keras\\preprocessing\\image.py:168\u001b[0m, in \u001b[0;36mIterator.next\u001b[1;34m(self)\u001b[0m\n\u001b[0;32m    165\u001b[0m     index_array \u001b[39m=\u001b[39m \u001b[39mnext\u001b[39m(\u001b[39mself\u001b[39m\u001b[39m.\u001b[39mindex_generator)\n\u001b[0;32m    166\u001b[0m \u001b[39m# The transformation of images is not under thread lock\u001b[39;00m\n\u001b[0;32m    167\u001b[0m \u001b[39m# so it can be done in parallel\u001b[39;00m\n\u001b[1;32m--> 168\u001b[0m \u001b[39mreturn\u001b[39;00m \u001b[39mself\u001b[39;49m\u001b[39m.\u001b[39;49m_get_batches_of_transformed_samples(index_array)\n",
      "File \u001b[1;32mc:\\Users\\butty\\miniconda3\\lib\\site-packages\\keras\\preprocessing\\image.py:370\u001b[0m, in \u001b[0;36mBatchFromFilesMixin._get_batches_of_transformed_samples\u001b[1;34m(self, index_array)\u001b[0m\n\u001b[0;32m    368\u001b[0m filepaths \u001b[39m=\u001b[39m \u001b[39mself\u001b[39m\u001b[39m.\u001b[39mfilepaths\n\u001b[0;32m    369\u001b[0m \u001b[39mfor\u001b[39;00m i, j \u001b[39min\u001b[39;00m \u001b[39menumerate\u001b[39m(index_array):\n\u001b[1;32m--> 370\u001b[0m     img \u001b[39m=\u001b[39m image_utils\u001b[39m.\u001b[39;49mload_img(\n\u001b[0;32m    371\u001b[0m         filepaths[j],\n\u001b[0;32m    372\u001b[0m         color_mode\u001b[39m=\u001b[39;49m\u001b[39mself\u001b[39;49m\u001b[39m.\u001b[39;49mcolor_mode,\n\u001b[0;32m    373\u001b[0m         target_size\u001b[39m=\u001b[39;49m\u001b[39mself\u001b[39;49m\u001b[39m.\u001b[39;49mtarget_size,\n\u001b[0;32m    374\u001b[0m         interpolation\u001b[39m=\u001b[39;49m\u001b[39mself\u001b[39;49m\u001b[39m.\u001b[39;49minterpolation,\n\u001b[0;32m    375\u001b[0m         keep_aspect_ratio\u001b[39m=\u001b[39;49m\u001b[39mself\u001b[39;49m\u001b[39m.\u001b[39;49mkeep_aspect_ratio,\n\u001b[0;32m    376\u001b[0m     )\n\u001b[0;32m    377\u001b[0m     x \u001b[39m=\u001b[39m image_utils\u001b[39m.\u001b[39mimg_to_array(img, data_format\u001b[39m=\u001b[39m\u001b[39mself\u001b[39m\u001b[39m.\u001b[39mdata_format)\n\u001b[0;32m    378\u001b[0m     \u001b[39m# Pillow images should be closed after `load_img`,\u001b[39;00m\n\u001b[0;32m    379\u001b[0m     \u001b[39m# but not PIL images.\u001b[39;00m\n",
      "File \u001b[1;32mc:\\Users\\butty\\miniconda3\\lib\\site-packages\\keras\\utils\\image_utils.py:423\u001b[0m, in \u001b[0;36mload_img\u001b[1;34m(path, grayscale, color_mode, target_size, interpolation, keep_aspect_ratio)\u001b[0m\n\u001b[0;32m    421\u001b[0m         path \u001b[39m=\u001b[39m \u001b[39mstr\u001b[39m(path\u001b[39m.\u001b[39mresolve())\n\u001b[0;32m    422\u001b[0m     \u001b[39mwith\u001b[39;00m \u001b[39mopen\u001b[39m(path, \u001b[39m\"\u001b[39m\u001b[39mrb\u001b[39m\u001b[39m\"\u001b[39m) \u001b[39mas\u001b[39;00m f:\n\u001b[1;32m--> 423\u001b[0m         img \u001b[39m=\u001b[39m pil_image\u001b[39m.\u001b[39mopen(io\u001b[39m.\u001b[39mBytesIO(f\u001b[39m.\u001b[39;49mread()))\n\u001b[0;32m    424\u001b[0m \u001b[39melse\u001b[39;00m:\n\u001b[0;32m    425\u001b[0m     \u001b[39mraise\u001b[39;00m \u001b[39mTypeError\u001b[39;00m(\n\u001b[0;32m    426\u001b[0m         \u001b[39m\"\u001b[39m\u001b[39mpath should be path-like or io.BytesIO\u001b[39m\u001b[39m\"\u001b[39m\n\u001b[0;32m    427\u001b[0m         \u001b[39m\"\u001b[39m\u001b[39m, not \u001b[39m\u001b[39m{}\u001b[39;00m\u001b[39m\"\u001b[39m\u001b[39m.\u001b[39mformat(\u001b[39mtype\u001b[39m(path))\n\u001b[0;32m    428\u001b[0m     )\n",
      "\u001b[1;31mKeyboardInterrupt\u001b[0m: "
     ]
    }
   ],
   "source": [
    "# for images, labels in train_generator:\n",
    "#     labels = labels.reshape(-1,len(train_generator.class_indices))\n",
    "\n",
    "# for images, labels in validation_generator:\n",
    "#     labels = labels.reshape(-1,len(train_generator.class_indices))\n"
   ]
  },
  {
   "cell_type": "code",
   "execution_count": 8,
   "metadata": {},
   "outputs": [],
   "source": [
    "def create_model():\n",
    "\n",
    "    model = tf.keras.models.Sequential([\n",
    "      tf.keras.layers.Conv2D(32, (3,3), activation='relu', input_shape=(150, 150, 3)),\n",
    "      tf.keras.layers.MaxPooling2D(2, 2),\n",
    "      tf.keras.layers.Conv2D(64, (3,3), activation='relu'),\n",
    "      tf.keras.layers.MaxPooling2D(2,2),\n",
    "      tf.keras.layers.Conv2D(128, (3,3), activation='relu'),\n",
    "      tf.keras.layers.MaxPooling2D(2,2),\n",
    "      tf.keras.layers.Conv2D(128, (3,3), activation='relu'),\n",
    "      tf.keras.layers.MaxPooling2D(2,2),\n",
    "      tf.keras.layers.Flatten(),\n",
    "      tf.keras.layers.Dense(512, activation='relu'),\n",
    "      tf.keras.layers.Dense((nb_classes), activation='softmax')\n",
    "    ])\n",
    "\n",
    "    model.compile(loss='categorical_crossentropy',\n",
    "                  optimizer= 'adam',\n",
    "                  metrics=['accuracy'])\n",
    "    \n",
    "    return model"
   ]
  },
  {
   "cell_type": "code",
   "execution_count": 9,
   "metadata": {},
   "outputs": [
    {
     "name": "stdout",
     "output_type": "stream",
     "text": [
      "Epoch 1/20\n",
      "439/439 [==============================] - 191s 421ms/step - loss: 1.1821 - accuracy: 0.5247 - val_loss: 1.0341 - val_accuracy: 0.6027\n",
      "Epoch 2/20\n",
      "439/439 [==============================] - 61s 139ms/step - loss: 0.9612 - accuracy: 0.6305 - val_loss: 0.7621 - val_accuracy: 0.7220\n",
      "Epoch 3/20\n",
      "439/439 [==============================] - 62s 142ms/step - loss: 0.8489 - accuracy: 0.6849 - val_loss: 0.6704 - val_accuracy: 0.7557\n",
      "Epoch 4/20\n",
      "439/439 [==============================] - 68s 156ms/step - loss: 0.7675 - accuracy: 0.7178 - val_loss: 0.6289 - val_accuracy: 0.7730\n",
      "Epoch 5/20\n",
      "439/439 [==============================] - 65s 149ms/step - loss: 0.7162 - accuracy: 0.7343 - val_loss: 0.6373 - val_accuracy: 0.7760\n",
      "Epoch 6/20\n",
      "439/439 [==============================] - 72s 165ms/step - loss: 0.6905 - accuracy: 0.7499 - val_loss: 0.6005 - val_accuracy: 0.7763\n",
      "Epoch 7/20\n",
      "439/439 [==============================] - 71s 162ms/step - loss: 0.6481 - accuracy: 0.7635 - val_loss: 0.5533 - val_accuracy: 0.8060\n",
      "Epoch 8/20\n",
      "439/439 [==============================] - 75s 170ms/step - loss: 0.6427 - accuracy: 0.7674 - val_loss: 0.5929 - val_accuracy: 0.7870\n",
      "Epoch 9/20\n",
      "439/439 [==============================] - 70s 159ms/step - loss: 0.6040 - accuracy: 0.7775 - val_loss: 0.4854 - val_accuracy: 0.8243\n",
      "Epoch 10/20\n",
      "439/439 [==============================] - 77s 175ms/step - loss: 0.5887 - accuracy: 0.7853 - val_loss: 0.5185 - val_accuracy: 0.8110\n",
      "Epoch 11/20\n",
      "439/439 [==============================] - 74s 169ms/step - loss: 0.5683 - accuracy: 0.7915 - val_loss: 0.4977 - val_accuracy: 0.8240\n",
      "Epoch 12/20\n",
      "439/439 [==============================] - 78s 178ms/step - loss: 0.5465 - accuracy: 0.7996 - val_loss: 0.4876 - val_accuracy: 0.8273\n",
      "Epoch 13/20\n",
      "439/439 [==============================] - 78s 178ms/step - loss: 0.5411 - accuracy: 0.8026 - val_loss: 0.5321 - val_accuracy: 0.8147\n",
      "Epoch 14/20\n",
      "439/439 [==============================] - 79s 180ms/step - loss: 0.5341 - accuracy: 0.8051 - val_loss: 0.5082 - val_accuracy: 0.8183\n",
      "Epoch 15/20\n",
      "439/439 [==============================] - 77s 176ms/step - loss: 0.5133 - accuracy: 0.8169 - val_loss: 0.4341 - val_accuracy: 0.8483\n",
      "Epoch 16/20\n",
      "439/439 [==============================] - 81s 184ms/step - loss: 0.5047 - accuracy: 0.8163 - val_loss: 0.4709 - val_accuracy: 0.8323\n",
      "Epoch 17/20\n",
      "439/439 [==============================] - 75s 170ms/step - loss: 0.4975 - accuracy: 0.8233 - val_loss: 0.4491 - val_accuracy: 0.8313\n",
      "Epoch 18/20\n",
      "439/439 [==============================] - 84s 190ms/step - loss: 0.4876 - accuracy: 0.8220 - val_loss: 0.5590 - val_accuracy: 0.7993\n",
      "Epoch 19/20\n",
      "439/439 [==============================] - 77s 174ms/step - loss: 0.4813 - accuracy: 0.8234 - val_loss: 0.4432 - val_accuracy: 0.8463\n",
      "Epoch 20/20\n",
      "439/439 [==============================] - 84s 191ms/step - loss: 0.4653 - accuracy: 0.8280 - val_loss: 0.4343 - val_accuracy: 0.8387\n"
     ]
    }
   ],
   "source": [
    "model = create_model()\n",
    "# model.summary()\n",
    "\n",
    "history = model.fit(train_generator,\n",
    "                    epochs=20,\n",
    "                    validation_data=validation_generator)"
   ]
  },
  {
   "cell_type": "code",
   "execution_count": 10,
   "metadata": {},
   "outputs": [
    {
     "data": {
      "image/png": "[encoded data removed]",
      "text/plain": [
       "<Figure size 640x480 with 1 Axes>"
      ]
     },
     "metadata": {},
     "output_type": "display_data"
    },
    {
     "data": {
      "text/plain": [
       "<Figure size 640x480 with 0 Axes>"
      ]
     },
     "metadata": {},
     "output_type": "display_data"
    }
   ],
   "source": [
    "acc = history.history['accuracy']\n",
    "val_acc = history.history['val_accuracy']\n",
    "loss = history.history['loss']\n",
    "val_loss = history.history['val_loss']\n",
    "\n",
    "epochs = range(len(acc))\n",
    "\n",
    "plt.plot(epochs, acc, 'r', label='Training accuracy')\n",
    "plt.plot(epochs, val_acc, 'b', label='Validation accuracy')\n",
    "plt.title('Training and validation accuracy')\n",
    "plt.legend(loc=0)\n",
    "plt.figure()\n",
    "\n",
    "plt.show()"
   ]
  }
 ],
 "metadata": {
  "kernelspec": {
   "display_name": "base",
   "language": "python",
   "name": "python3"
  },
  "language_info": {
   "codemirror_mode": {
    "name": "ipython",
    "version": 3
   },
   "file_extension": ".py",
   "mimetype": "text/x-python",
   "name": "python",
   "nbconvert_exporter": "python",
   "pygments_lexer": "ipython3",
   "version": "3.10.9"
  },
  "orig_nbformat": 4
 },
 "nbformat": 4,
 "nbformat_minor": 2
}
